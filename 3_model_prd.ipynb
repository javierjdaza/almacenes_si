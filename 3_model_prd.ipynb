{
 "cells": [
  {
   "cell_type": "code",
   "execution_count": 1,
   "metadata": {},
   "outputs": [],
   "source": [
    "from prophet import Prophet\n",
    "from prophet.serialize import model_to_json\n",
    "import pandas as pd\n",
    "import json\n",
    "from tqdm import tqdm\n",
    "from datetime import date\n",
    "import numpy as np\n",
    "from sklearn.metrics import mean_squared_error\n",
    "import warnings\n",
    "warnings.filterwarnings('ignore')\n",
    "import logging\n",
    "\n",
    "# Set the logging level for cmdstanpy to WARNING\n",
    "logging.getLogger('cmdstanpy').setLevel(logging.WARNING)\n"
   ]
  },
  {
   "cell_type": "code",
   "execution_count": 2,
   "metadata": {},
   "outputs": [],
   "source": [
    "master_sales_by_week = pd.read_parquet('./datasets/master_sales_by_week_curated.parquet')"
   ]
  },
  {
   "cell_type": "code",
   "execution_count": 3,
   "metadata": {},
   "outputs": [],
   "source": [
    "# add year column\n",
    "master_sales_by_week['year'] = master_sales_by_week['date'].apply(lambda x: x.strftime('%Y'))"
   ]
  },
  {
   "cell_type": "code",
   "execution_count": 4,
   "metadata": {},
   "outputs": [
    {
     "name": "stdout",
     "output_type": "stream",
     "text": [
      "Total products_ids without sales: 266\n"
     ]
    }
   ],
   "source": [
    "# get product_ids without any sale\n",
    "total_sales_by_product_id = master_sales_by_week.groupby(['product_id'], as_index=False).agg({'quantity':'sum', })\n",
    "products_without_sales = total_sales_by_product_id[total_sales_by_product_id['quantity'] == 0]\n",
    "product_ids_without_sales = products_without_sales['product_id'].unique()\n",
    "print(f'Total products_ids without sales: {len(product_ids_without_sales)}')\n",
    "# remove products_id without any sale from the dataset\n",
    "master_sales_by_week = master_sales_by_week[~(master_sales_by_week['product_id'].isin(product_ids_without_sales))]"
   ]
  },
  {
   "cell_type": "code",
   "execution_count": 5,
   "metadata": {},
   "outputs": [
    {
     "data": {
      "text/html": [
       "<div>\n",
       "<style scoped>\n",
       "    .dataframe tbody tr th:only-of-type {\n",
       "        vertical-align: middle;\n",
       "    }\n",
       "\n",
       "    .dataframe tbody tr th {\n",
       "        vertical-align: top;\n",
       "    }\n",
       "\n",
       "    .dataframe thead th {\n",
       "        text-align: right;\n",
       "    }\n",
       "</style>\n",
       "<table border=\"1\" class=\"dataframe\">\n",
       "  <thead>\n",
       "    <tr style=\"text-align: right;\">\n",
       "      <th></th>\n",
       "      <th>combination</th>\n",
       "      <th>date</th>\n",
       "      <th>cod_fami</th>\n",
       "      <th>quantity</th>\n",
       "      <th>store_id</th>\n",
       "      <th>price_taxes_excluded</th>\n",
       "      <th>product_id</th>\n",
       "      <th>description_fami</th>\n",
       "      <th>description</th>\n",
       "      <th>event</th>\n",
       "      <th>discount</th>\n",
       "      <th>year</th>\n",
       "    </tr>\n",
       "  </thead>\n",
       "  <tbody>\n",
       "    <tr>\n",
       "      <th>0</th>\n",
       "      <td>201AA3</td>\n",
       "      <td>2018-01-08</td>\n",
       "      <td>201</td>\n",
       "      <td>1</td>\n",
       "      <td>1010100</td>\n",
       "      <td>7554.62</td>\n",
       "      <td>229254.1001.EST</td>\n",
       "      <td>ACCESORIOS BEBE</td>\n",
       "      <td>PEZONERA GBC5103 EN SILICONA</td>\n",
       "      <td>NO EVENT</td>\n",
       "      <td>0</td>\n",
       "      <td>2018</td>\n",
       "    </tr>\n",
       "  </tbody>\n",
       "</table>\n",
       "</div>"
      ],
      "text/plain": [
       "  combination       date cod_fami  quantity store_id price_taxes_excluded  \\\n",
       "0      201AA3 2018-01-08      201         1  1010100              7554.62   \n",
       "\n",
       "        product_id description_fami                   description     event  \\\n",
       "0  229254.1001.EST  ACCESORIOS BEBE  PEZONERA GBC5103 EN SILICONA  NO EVENT   \n",
       "\n",
       "   discount  year  \n",
       "0         0  2018  "
      ]
     },
     "execution_count": 5,
     "metadata": {},
     "output_type": "execute_result"
    }
   ],
   "source": [
    "master_sales_by_week.head(1)"
   ]
  },
  {
   "cell_type": "code",
   "execution_count": 6,
   "metadata": {},
   "outputs": [
    {
     "name": "stdout",
     "output_type": "stream",
     "text": [
      "Año:2018\n",
      "\t# Llaves Unicas: 6552\n",
      "Año:2019\n",
      "\t# Llaves Unicas: 6517\n",
      "Año:2020\n",
      "\t# Llaves Unicas: 5822\n",
      "Año:2021\n",
      "\t# Llaves Unicas: 5552\n",
      "Año:2022\n",
      "\t# Llaves Unicas: 5665\n",
      "Año:2023\n",
      "\t# Llaves Unicas: 5539\n",
      "Año:2024\n",
      "\t# Llaves Unicas: 4384\n"
     ]
    }
   ],
   "source": [
    "for year in master_sales_by_week['year'].unique():\n",
    "    n_unique_keys = master_sales_by_week[master_sales_by_week['date'].between(f'{year}-01-01',f'{year}-12-31')]['combination'].nunique()\n",
    "    print(f\"Año:{year}\\n\\t# Llaves Unicas: {n_unique_keys}\")"
   ]
  },
  {
   "cell_type": "code",
   "execution_count": 7,
   "metadata": {},
   "outputs": [],
   "source": [
    "unique_keys_in_2022 = master_sales_by_week[master_sales_by_week['date'].between('2022-01-01','2022-12-31')]['combination'].unique()\n",
    "unique_keys_in_2023 = master_sales_by_week[master_sales_by_week['date'].between('2023-01-01','2023-12-31')]['combination'].unique()\n",
    "\n",
    "keys_to_forecast = list(set(unique_keys_in_2022) & set(unique_keys_in_2023)) # we going to forecast all the keys in 2022, and 2023\n"
   ]
  },
  {
   "cell_type": "markdown",
   "metadata": {},
   "source": [
    "#### Create dataset for train (2018-2023)"
   ]
  },
  {
   "cell_type": "code",
   "execution_count": 8,
   "metadata": {},
   "outputs": [],
   "source": [
    "master_sales_by_week_train = master_sales_by_week[master_sales_by_week['date'].between('2018-01-01','2023-12-31')]"
   ]
  },
  {
   "cell_type": "code",
   "execution_count": 9,
   "metadata": {},
   "outputs": [
    {
     "name": "stderr",
     "output_type": "stream",
     "text": [
      "100%|██████████| 4871/4871 [01:24<00:00, 57.31it/s]\n"
     ]
    }
   ],
   "source": [
    "weeks_of_information_by_combination = []\n",
    "for i in tqdm(keys_to_forecast):\n",
    "    df_temp = master_sales_by_week_train[master_sales_by_week_train['combination'] == i]\n",
    "    dict_temp = {\n",
    "        'combination' : i,\n",
    "        'n_weeks' : df_temp['date'].nunique()\n",
    "    }\n",
    "    weeks_of_information_by_combination.append(dict_temp)\n",
    "weeks_of_information_by_combination_df = pd.DataFrame(weeks_of_information_by_combination)"
   ]
  },
  {
   "cell_type": "code",
   "execution_count": 10,
   "metadata": {},
   "outputs": [
    {
     "name": "stdout",
     "output_type": "stream",
     "text": [
      "#Keys with less than 12 weeks of info: 289\n"
     ]
    }
   ],
   "source": [
    "keys_with_less_than_12_weeks_of_info = weeks_of_information_by_combination_df[weeks_of_information_by_combination_df['n_weeks'] <= 12]['combination'].unique()\n",
    "\n",
    "# keep just the keys present in 2022 and 2023\n",
    "master_sales_by_week_train = master_sales_by_week_train[master_sales_by_week_train['combination'].isin(keys_to_forecast)]\n",
    "# drop all the combination withot enoff information in train \n",
    "master_sales_by_week_train = master_sales_by_week_train[~(master_sales_by_week_train['combination'].isin(keys_with_less_than_12_weeks_of_info))]\n",
    "print(f'#Keys with less than 12 weeks of info: {len(keys_with_less_than_12_weeks_of_info)}')"
   ]
  },
  {
   "cell_type": "code",
   "execution_count": 12,
   "metadata": {},
   "outputs": [
    {
     "name": "stderr",
     "output_type": "stream",
     "text": [
      "100%|██████████| 4582/4582 [22:00<00:00,  3.47it/s]  \n"
     ]
    }
   ],
   "source": [
    "logging.getLogger('cmdstanpy').setLevel(logging.WARNING)\n",
    "\n",
    "for combination in tqdm(master_sales_by_week_train['combination'].unique()):\n",
    "    sales_combination = master_sales_by_week_train[master_sales_by_week_train['combination'] == combination]\n",
    "    sales_combination = sales_combination[['date','combination','quantity','cod_fami','discount','price_taxes_excluded']]\n",
    "\n",
    "\n",
    "    first_date = sales_combination['date'].min() # Get the first date in the dataframe\n",
    "    last_date = sales_combination['date'].max() # Get the last date in the dataframe\n",
    "\n",
    "    df_dates = pd.DataFrame({'date': pd.date_range(start=f'{first_date.year}-01-08', end='2023-12-31', freq='W-MON')})\n",
    "\n",
    "    sales_combination = df_dates.merge(sales_combination, on='date', how='left') # Merge the dataframes\n",
    "    sales_combination['quantity'] = sales_combination['quantity'].fillna(0) # Replace NaN values with 0\n",
    "    sales_combination = sales_combination[~(sales_combination['combination'].isnull())]\n",
    "\n",
    "    # Create the prophet dataframe\n",
    "    prophet_dataframe = pd.DataFrame()\n",
    "    prophet_dataframe['ds'] = sales_combination['date']\n",
    "    prophet_dataframe['y'] = sales_combination['quantity']\n",
    "    prophet_dataframe['y'] = prophet_dataframe['y'].astype(int)\n",
    "    prophet_dataframe['discount'] = sales_combination['discount']\n",
    "    prophet_dataframe['price_taxes_excluded'] = sales_combination['price_taxes_excluded']\n",
    "\n",
    "    n_unique_years = prophet_dataframe['ds'].dt.year.nunique() # Count the number of different years in the dataframe\n",
    "\n",
    "    # Create the model\n",
    "    model = Prophet(weekly_seasonality = 15)\n",
    "    model.add_regressor('discount')\n",
    "    model.add_regressor('price_taxes_excluded')\n",
    "    \n",
    "    model.fit(prophet_dataframe)\n",
    "    \n",
    "    # Save Model\n",
    "    with open(f'./serialized_models/{str(combination)}.json', 'w') as file:\n",
    "        file.write(model_to_json(model))  # Save model\n",
    "\n",
    "    "
   ]
  },
  {
   "cell_type": "code",
   "execution_count": null,
   "metadata": {},
   "outputs": [],
   "source": []
  }
 ],
 "metadata": {
  "kernelspec": {
   "display_name": "Python 3",
   "language": "python",
   "name": "python3"
  },
  "language_info": {
   "codemirror_mode": {
    "name": "ipython",
    "version": 3
   },
   "file_extension": ".py",
   "mimetype": "text/x-python",
   "name": "python",
   "nbconvert_exporter": "python",
   "pygments_lexer": "ipython3",
   "version": "3.11.0"
  }
 },
 "nbformat": 4,
 "nbformat_minor": 2
}
