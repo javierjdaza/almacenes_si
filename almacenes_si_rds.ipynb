{
 "cells": [
  {
   "cell_type": "code",
   "execution_count": null,
   "metadata": {},
   "outputs": [],
   "source": [
    "import pandas as pd\n",
    "import os\n",
    "from dotenv import load_dotenv\n",
    "import mysql.connector\n",
    "from datetime import datetime\n"
   ]
  },
  {
   "cell_type": "code",
   "execution_count": null,
   "metadata": {},
   "outputs": [],
   "source": [
    "load_dotenv()"
   ]
  },
  {
   "cell_type": "code",
   "execution_count": null,
   "metadata": {},
   "outputs": [],
   "source": [
    "def query_all_table_from_mysql(table_name,db_config):\n",
    "    conn = mysql.connector.connect(**db_config)    \n",
    "    cursor = conn.cursor()\n",
    "\n",
    "    query = f'SELECT * FROM {table_name}'\n",
    "\n",
    "    cursor.execute(query)\n",
    "\n",
    "    # Fetch the results into a pandas DataFrame\n",
    "    df = pd.DataFrame(cursor.fetchall(), columns=[i[0] for i in cursor.description])\n",
    "\n",
    "    conn.commit()\n",
    "    cursor.close()\n",
    "    conn.close()\n",
    "\n",
    "    return df\n",
    "\n",
    "def edited_query_from_table_mysql(db_config,sql_query):\n",
    "    conn = mysql.connector.connect(**db_config)    \n",
    "    cursor = conn.cursor()\n",
    "\n",
    "    query = sql_query\n",
    "\n",
    "    cursor.execute(query)\n",
    "\n",
    "    # Fetch the results into a pandas DataFrame\n",
    "    df = pd.DataFrame(cursor.fetchall(), columns=[i[0] for i in cursor.description])\n",
    "\n",
    "    conn.commit()\n",
    "    cursor.close()\n",
    "    conn.close()\n",
    "\n",
    "    return df\n",
    "\n",
    "def forecast_key_format(row):\n",
    "    familias_tipo_1 = [278,212,213,225,276,238,270,206,260,261,262,263,275,205,257,258,259] # formato = [cod_fami]\n",
    "    familias_tipo_2 = [244,245,246,247,202,269,230,252,277,201,264,265,266,267,] # formato = [cod_fami,cod_subg]\n",
    "    familias_tipo_3 = [239,240,243,] # formato = [cod_fami, cod_subg, cod_dsub]\n",
    "    familias_tipo_4 = [241, 242, 209] # formato = [cod_fami, cod_grup, cod_subg]\n",
    "    familias_tipo_5 = [219, 214] # formato = [cod_fami, cod_tipo, cod_subg]\n",
    "    familias_tipo_6 = [250] # formato = [cod_fami, cod_tipo, cod_grup, cod_subg]\n",
    "    familias_tipo_7 = [280,251,281,268] # formato = [cod_fami, cod_tipo, cod_grup, cod_subg,cod_marca]\n",
    "    familias_tipo_8 = [248] # formato = [cod_fami, cod_subg, cod_dsub, cod_tlla]\n",
    "    familias_tipo_9 = [211] # formato = [cod_fami,cod_grup]\n",
    "\n",
    "    if int(row['cod_fami']) in familias_tipo_1:\n",
    "        return row['cod_fami']\n",
    "    elif int(row['cod_fami']) in familias_tipo_2:\n",
    "        return row['cod_fami'] + row['cod_subg'] \n",
    "    elif int(row['cod_fami']) in familias_tipo_3:\n",
    "        return row['cod_fami'] + row['cod_subg'] + row['cod_dsub']\n",
    "    elif int(row['cod_fami']) in familias_tipo_4:\n",
    "        return row['cod_fami'] + row['cod_grup'] + row['cod_subg']\n",
    "    elif int(row['cod_fami']) in familias_tipo_5:\n",
    "        return row['cod_fami'] + row['cod_tipo'] + row['cod_subg']\n",
    "    elif int(row['cod_fami']) in familias_tipo_6:\n",
    "        return row['cod_fami'] + row['cod_tipo'] + row['cod_grup'] + row['cod_subg']\n",
    "    elif int(row['cod_fami']) in familias_tipo_7:\n",
    "        return row['cod_fami'] + row['cod_tipo'] + row['cod_grup'] + row['cod_subg'] + row['cod_marc']\n",
    "    elif int(row['cod_fami']) in familias_tipo_8:\n",
    "        return row['cod_fami'] + row['cod_subg'] + row['cod_dsub'] + row['cod_tlla']\n",
    "    elif int(row['cod_fami']) in familias_tipo_9:\n",
    "        return row['cod_fami'] + row['cod_grup']    \n"
   ]
  },
  {
   "cell_type": "code",
   "execution_count": null,
   "metadata": {},
   "outputs": [],
   "source": [
    "#Configurando Datos de Conexión a la DB\n",
    "db_config = {\n",
    "    \"host\": os.getenv(\"MYSQL_HOST\"),\n",
    "    \"user\": os.getenv(\"MYSQL_USER\"),\n",
    "    \"password\": os.getenv(\"MYSQL_PASSWORD\"),\n",
    "    \"database\": os.getenv(\"MYSQL_DATABASE\")\n",
    "}"
   ]
  },
  {
   "cell_type": "code",
   "execution_count": null,
   "metadata": {},
   "outputs": [],
   "source": [
    "# df_store_information = query_all_table_from_mysql('store_information', db_config)\n",
    "# df_actual_stock = query_all_table_from_mysql('actual_stock', db_config)\n",
    "# df_warehouse_stock = query_all_table_from_mysql('warehouse_stock', db_config)\n",
    "df_product_raw = query_all_table_from_mysql(\"product_information\",db_config)\n",
    "df_product_raw['combination'] = df_product_raw.apply(lambda x: forecast_key_format(x), axis = 1)"
   ]
  },
  {
   "cell_type": "code",
   "execution_count": null,
   "metadata": {},
   "outputs": [],
   "source": [
    "today = datetime.now()\n",
    "year_now = today.year\n",
    "last_year = year_now - 1\n",
    "min_date = f'{last_year}-01-01'\n",
    "max_date = f'{last_year}-12-31'\n",
    "df_ventas = edited_query_from_table_mysql(db_config,f'SELECT * FROM sales where `Date` between \"{min_date}\" and \"{max_date}\"')\n"
   ]
  },
  {
   "cell_type": "code",
   "execution_count": null,
   "metadata": {},
   "outputs": [],
   "source": [
    "df_product_raw = df_product_raw[['ProductId','cod_fami','combination']]\n",
    "df_last_year_sales = df_ventas.merge(df_product_raw, how = 'left', on = 'ProductId')\n",
    "df_last_year_sales['Date'] = pd.to_datetime(df_last_year_sales['Date'])\n",
    "# Group By Week\n",
    "df_grouped_by_week = df_last_year_sales.groupby(['combination', pd.Grouper(key='Date', freq='W-MON')]).agg({'Quantity': 'sum', 'StoreId':'max','ProductId':'max'}).reset_index() \n",
    "df_grouped_by_week.rename(columns = {'Quantity': 'quantity', 'StoreId':'store_id','ProductId':'product_id', 'Date':'date'}, inplace = True)"
   ]
  },
  {
   "cell_type": "code",
   "execution_count": null,
   "metadata": {},
   "outputs": [],
   "source": [
    "\n",
    "df_last_year_sales.head()"
   ]
  },
  {
   "cell_type": "markdown",
   "metadata": {},
   "source": [
    "#### Get All historic Data\n"
   ]
  },
  {
   "cell_type": "code",
   "execution_count": null,
   "metadata": {},
   "outputs": [],
   "source": [
    "min_date = '2018-01-01'\n",
    "max_date = '2024-12-31'\n",
    "df_ventas = edited_query_from_table_mysql(db_config,f'SELECT * FROM sales where `Date` between \"{min_date}\" and \"{max_date}\"')\n"
   ]
  },
  {
   "cell_type": "code",
   "execution_count": null,
   "metadata": {},
   "outputs": [],
   "source": [
    "df_ventas.head()"
   ]
  },
  {
   "cell_type": "code",
   "execution_count": null,
   "metadata": {},
   "outputs": [],
   "source": [
    "df_ventas.to_parquet('./historico_ventas_2018_2024_raw.parquet', index = False)"
   ]
  },
  {
   "cell_type": "code",
   "execution_count": null,
   "metadata": {},
   "outputs": [],
   "source": [
    "df_product_raw.head()"
   ]
  },
  {
   "cell_type": "code",
   "execution_count": null,
   "metadata": {},
   "outputs": [],
   "source": []
  }
 ],
 "metadata": {
  "kernelspec": {
   "display_name": "Python 3",
   "language": "python",
   "name": "python3"
  },
  "language_info": {
   "codemirror_mode": {
    "name": "ipython",
    "version": 3
   },
   "file_extension": ".py",
   "mimetype": "text/x-python",
   "name": "python",
   "nbconvert_exporter": "python",
   "pygments_lexer": "ipython3",
   "version": "3.11.0"
  }
 },
 "nbformat": 4,
 "nbformat_minor": 2
}
