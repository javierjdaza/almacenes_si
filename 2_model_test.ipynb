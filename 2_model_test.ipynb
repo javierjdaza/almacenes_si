{
 "cells": [
  {
   "cell_type": "code",
   "execution_count": null,
   "metadata": {},
   "outputs": [],
   "source": [
    "from prophet import Prophet\n",
    "from prophet.serialize import model_to_json\n",
    "import pandas as pd\n",
    "import json\n",
    "from tqdm import tqdm\n",
    "from datetime import date\n",
    "import numpy as np\n",
    "from sklearn.metrics import mean_squared_error\n",
    "import warnings\n",
    "warnings.filterwarnings('ignore')\n",
    "import logging\n",
    "\n",
    "# Set the logging level for cmdstanpy to WARNING\n",
    "logging.getLogger('cmdstanpy').setLevel(logging.WARNING)\n"
   ]
  },
  {
   "cell_type": "code",
   "execution_count": null,
   "metadata": {},
   "outputs": [],
   "source": [
    "master_sales_by_week = pd.read_parquet('./datasets/master_sales_by_week_curated.parquet')"
   ]
  },
  {
   "cell_type": "code",
   "execution_count": null,
   "metadata": {},
   "outputs": [],
   "source": [
    "# add year column\n",
    "master_sales_by_week['year'] = master_sales_by_week['date'].apply(lambda x: x.strftime('%Y'))"
   ]
  },
  {
   "cell_type": "code",
   "execution_count": null,
   "metadata": {},
   "outputs": [],
   "source": [
    "# get product_ids without any sale\n",
    "total_sales_by_product_id = master_sales_by_week.groupby(['product_id'], as_index=False).agg({'quantity':'sum', })\n",
    "products_without_sales = total_sales_by_product_id[total_sales_by_product_id['quantity'] == 0]\n",
    "product_ids_without_sales = products_without_sales['product_id'].unique()\n",
    "print(f'Total products_ids without sales: {len(product_ids_without_sales)}')\n",
    "# remove products_id without any sale from the dataset\n",
    "master_sales_by_week = master_sales_by_week[~(master_sales_by_week['product_id'].isin(product_ids_without_sales))]"
   ]
  },
  {
   "cell_type": "code",
   "execution_count": null,
   "metadata": {},
   "outputs": [],
   "source": [
    "master_sales_by_week.head(1)"
   ]
  },
  {
   "cell_type": "code",
   "execution_count": null,
   "metadata": {},
   "outputs": [],
   "source": [
    "for year in master_sales_by_week['year'].unique():\n",
    "    n_unique_keys = master_sales_by_week[master_sales_by_week['date'].between(f'{year}-01-01',f'{year}-12-31')]['combination'].nunique()\n",
    "    print(f\"Año:{year}\\n\\t# Llaves Unicas: {n_unique_keys}\")"
   ]
  },
  {
   "cell_type": "code",
   "execution_count": null,
   "metadata": {},
   "outputs": [],
   "source": [
    "unique_keys_in_2023 = master_sales_by_week[master_sales_by_week['date'].between('2023-01-01','2023-12-31')]['combination'].unique()\n",
    "unique_keys_in_2024 = master_sales_by_week[master_sales_by_week['date'].between('2024-01-01','2024-12-31')]['combination'].unique()\n",
    "\n",
    "keys_to_forecast = list(set(unique_keys_in_2023) & set(unique_keys_in_2024)) # we going to forecast all the keys in 2023, and 2024 for testing\n"
   ]
  },
  {
   "cell_type": "markdown",
   "metadata": {},
   "source": [
    "#### Create dataset for train (2018-2023) and test(2024)"
   ]
  },
  {
   "cell_type": "code",
   "execution_count": null,
   "metadata": {},
   "outputs": [],
   "source": [
    "master_sales_by_week_train = master_sales_by_week[master_sales_by_week['date'].between('2018-01-01','2023-12-31')]\n",
    "master_sales_by_week_test = master_sales_by_week[master_sales_by_week['date'].between('2024-01-01','2024-12-31')]"
   ]
  },
  {
   "cell_type": "code",
   "execution_count": null,
   "metadata": {},
   "outputs": [],
   "source": [
    "weeks_of_information_by_combination = []\n",
    "for i in tqdm(keys_to_forecast):\n",
    "    df_temp = master_sales_by_week_train[master_sales_by_week_train['combination'] == i]\n",
    "    dict_temp = {\n",
    "        'combination' : i,\n",
    "        'n_weeks' : df_temp['date'].nunique()\n",
    "    }\n",
    "    weeks_of_information_by_combination.append(dict_temp)\n",
    "weeks_of_information_by_combination_df = pd.DataFrame(weeks_of_information_by_combination)"
   ]
  },
  {
   "cell_type": "code",
   "execution_count": null,
   "metadata": {},
   "outputs": [],
   "source": [
    "keys_with_less_than_12_weeks_of_info = weeks_of_information_by_combination_df[weeks_of_information_by_combination_df['n_weeks'] <= 12]['combination'].unique()\n",
    "\n",
    "# keep just the keys present in 2023 and 2024\n",
    "master_sales_by_week_train = master_sales_by_week_train[master_sales_by_week_train['combination'].isin(keys_to_forecast)]\n",
    "master_sales_by_week_test = master_sales_by_week_test[master_sales_by_week_test['combination'].isin(keys_to_forecast)]\n",
    "# drop all the combination withot enoff information in train and test \n",
    "master_sales_by_week_train = master_sales_by_week_train[~(master_sales_by_week_train['combination'].isin(keys_with_less_than_12_weeks_of_info))]\n",
    "master_sales_by_week_test = master_sales_by_week_test[~(master_sales_by_week_test['combination'].isin(keys_with_less_than_12_weeks_of_info))]\n",
    "print(f'#Keys with less than 12 weeks of info: {len(keys_with_less_than_12_weeks_of_info)}')"
   ]
  },
  {
   "cell_type": "code",
   "execution_count": null,
   "metadata": {},
   "outputs": [],
   "source": [
    "logging.getLogger('cmdstanpy').setLevel(logging.WARNING)\n",
    "final_prediction_2024 = pd.DataFrame()\n",
    "# dataframe_ytrue_ytest = pd.DataFrame()\n",
    "rmse_por_llave = pd.DataFrame()\n",
    "for combination in tqdm(master_sales_by_week_train['combination'].unique()):\n",
    "    sales_combination = master_sales_by_week_train[master_sales_by_week_train['combination'] == combination]\n",
    "    sales_combination = sales_combination[['date','combination','quantity','cod_fami','discount','price_taxes_excluded']]\n",
    "\n",
    "\n",
    "    first_date = sales_combination['date'].min() # Get the first date in the dataframe\n",
    "    last_date = sales_combination['date'].max() # Get the last date in the dataframe\n",
    "\n",
    "    df_dates = pd.DataFrame({'date': pd.date_range(start=f'{first_date.year}-01-08', end='2023-12-31', freq='W-MON')})\n",
    "\n",
    "    sales_combination = df_dates.merge(sales_combination, on='date', how='left') # Merge the dataframes\n",
    "    sales_combination['quantity'] = sales_combination['quantity'].fillna(0) # Replace NaN values with 0\n",
    "    sales_combination = sales_combination[~(sales_combination['combination'].isnull())]\n",
    "\n",
    "    # Create the prophet dataframe\n",
    "    prophet_dataframe = pd.DataFrame()\n",
    "    prophet_dataframe['ds'] = sales_combination['date']\n",
    "    prophet_dataframe['y'] = sales_combination['quantity']\n",
    "    prophet_dataframe['y'] = prophet_dataframe['y'].astype(int)\n",
    "    prophet_dataframe['discount'] = sales_combination['discount']\n",
    "    prophet_dataframe['price_taxes_excluded'] = sales_combination['price_taxes_excluded']\n",
    "\n",
    "    n_unique_years = prophet_dataframe['ds'].dt.year.nunique() # Count the number of different years in the dataframe\n",
    "\n",
    "    # Create the model\n",
    "    if n_unique_years == 1:\n",
    "        model = Prophet(weekly_seasonality = 13)\n",
    "        model.add_regressor('discount')\n",
    "        model.add_regressor('price_taxes_excluded')\n",
    "\n",
    "    else:\n",
    "        model = Prophet(weekly_seasonality = 52)\n",
    "        model.add_regressor('discount')\n",
    "        model.add_regressor('price_taxes_excluded')\n",
    "        \n",
    "        \n",
    "    model.fit(prophet_dataframe)\n",
    "\n",
    "    # -----------\n",
    "    # Test Model\n",
    "    # -----------\n",
    "    # Calculate how many weeks are missing from the last date in the dataframe to the last week of 2024\n",
    "    weeks = (date(2024, 12, 31) - prophet_dataframe['ds'].max().date()).days // 7\n",
    "\n",
    "    # Create a dataframe with the dates from the last date in the dataframe to the last week of 2024\n",
    "    sales_by_week_test = master_sales_by_week_test.copy()\n",
    "    df_combination_test = sales_by_week_test[sales_by_week_test['combination'] == combination][['date','quantity','discount','price_taxes_excluded']] # get the y_true values of the combination selected\n",
    "\n",
    "    # future Dataframe\n",
    "    future_2024 = model.make_future_dataframe(periods=weeks, freq='W-MON')\n",
    "    future_2024 = future_2024[future_2024['ds'] >= '2024-01-01']\n",
    "    future_2024 = future_2024.merge(df_combination_test, right_on='date',left_on= 'ds', how = 'left')\n",
    "    del future_2024['date']\n",
    "    familia = combination[:3]\n",
    "    future_2024['familia'] = familia\n",
    "    future_2024['quantity'].fillna(0,inplace=True)\n",
    "    future_2024['discount'].fillna(0,inplace=True)\n",
    "    future_2024['price_taxes_excluded'].fillna(0,inplace=True)\n",
    "\n",
    "    # Get Predictions\n",
    "    forecast = model.predict(future_2024) # Make the predictions\n",
    "    forecast_2023 = forecast[['ds', 'yhat']] # Get the predictions for 2024\n",
    "    forecast_2023.columns = ['date', 'demand_yhat'] # Rename columns\n",
    "    forecast_2023['llave'] = combination # Add the combination column\n",
    "    # Add to the final predictions dataframe\n",
    "    final_prediction_2024 = pd.concat([final_prediction_2024, forecast_2023])\n",
    "    final_prediction_2024['demand_yhat'] = final_prediction_2024['demand_yhat'].apply(lambda x: 0 if x < 0 else x)\n",
    "    final_prediction_2024['demand_yhat'] = final_prediction_2024['demand_yhat'].apply(lambda x: np.ceil(x))\n",
    "\n",
    "    # Generate dataframe with y_true and y_hat\n",
    "    df_combination_test = df_combination_test[['date','quantity']]\n",
    "    df_combination_test.columns = ['date','y_true']\n",
    "    df_ytrue_yhat = final_prediction_2024.merge(df_combination_test,on= 'date', how = 'left')\n",
    "    df_ytrue_yhat['y_true'].fillna(0, inplace=True)\n",
    "    # dataframe_ytrue_ytest = pd.concat([dataframe_ytrue_ytest, df_ytrue_yhat])\n",
    "    RMSE = np.sqrt(mean_squared_error(df_ytrue_yhat['y_true'], df_ytrue_yhat['demand_yhat']))\n",
    "    rmse_temp = {\n",
    "        'llave' : combination,\n",
    "        'rmse' : RMSE\n",
    "    }\n",
    "    df_rmse = pd.DataFrame([rmse_temp])\n",
    "    rmse_por_llave = pd.concat([rmse_por_llave,df_rmse])"
   ]
  },
  {
   "cell_type": "code",
   "execution_count": null,
   "metadata": {},
   "outputs": [],
   "source": [
    "rmse_por_llave['rmse'].mean()"
   ]
  },
  {
   "cell_type": "markdown",
   "metadata": {},
   "source": [
    "### Check performance "
   ]
  },
  {
   "cell_type": "code",
   "execution_count": null,
   "metadata": {},
   "outputs": [],
   "source": [
    "master_sales_by_week_test = master_sales_by_week_test[['date','combination','quantity']]\n",
    "master_sales_by_week_test.columns = ['date','llave','y_true']\n",
    "master_sales_by_week_test.head()"
   ]
  },
  {
   "cell_type": "code",
   "execution_count": null,
   "metadata": {},
   "outputs": [],
   "source": [
    "y_true_y_hat = final_prediction_2024.merge(master_sales_by_week_test, how = 'left', on = ['date','llave'])\n",
    "y_true_y_hat = y_true_y_hat[~(y_true_y_hat['y_true'].isnull())]\n",
    "y_true_y_hat['cod_fami'] = y_true_y_hat['llave'].apply(lambda x: str(x[:3]))"
   ]
  },
  {
   "cell_type": "code",
   "execution_count": null,
   "metadata": {},
   "outputs": [],
   "source": [
    "y_true_y_hat.to_csv('./predicciones/2024_prediccion_vs_venta_real.csv', index = False, sep = ',')\n",
    "rmse_por_llave.to_csv('./predicciones/2024_rmse_por_llave.csv', index = False, sep = ',')"
   ]
  },
  {
   "cell_type": "code",
   "execution_count": null,
   "metadata": {},
   "outputs": [],
   "source": [
    "x = y_true_y_hat.groupby(['date','cod_fami'], as_index=False)['demand_yhat','y_true'].sum()"
   ]
  },
  {
   "cell_type": "code",
   "execution_count": null,
   "metadata": {},
   "outputs": [],
   "source": [
    "import matplotlib.pyplot as plt\n",
    "import seaborn as sns\n",
    "plt.style.use('fivethirtyeight')\n",
    "llaves_pred = list(set([i[:3] for i in master_sales_by_week_test['llave'].unique()])) # familias presentes en 2024\n",
    "for i in llaves_pred:\n",
    "    # Setting size of our plot\n",
    "    fig, ax = plt.subplots(figsize=(15,5))\n",
    "    familia = i\n",
    "    t = x[x['cod_fami'] == familia]\n",
    "    t.sort_values(by = ['date'], inplace = True)\n",
    "    # Plotting each occupation category\n",
    "    sns.lineplot(x=t['date'].values , y = t['y_true'].values, color='#414141', lw=2.2, alpha = 0.6, label = 'Valor Real')\n",
    "    sns.lineplot(x=t['date'].values , y = t['demand_yhat'].values, color='#39A7FF', lw=2.2, alpha = 0.6, label = 'Prediccion')\n",
    "\n",
    "    # leged\n",
    "    plt.legend(bbox_to_anchor=(0.9, 1.15),loc='upper center',fancybox=True, fontsize = 10)\n",
    "    # X and y labels\n",
    "    plt.ylabel('Date - Week', fontsize=10, color='#414141',labelpad=15)\n",
    "    plt.xlabel('SUM(Ventas)', fontsize=10, color='#414141',labelpad=15)\n",
    "    # Bolded horizontal line at y=0\n",
    "    plt.axhline(y=0, color='#414141', linewidth=1, alpha=.5)\n",
    "    plt.yticks( fontsize=10, color='#414141');\n",
    "    plt.xticks( fontsize=10, color='#414141');\n",
    "    plt.title(label = f'\\nFamilia: {familia}\\n\\n',fontsize=15, fontweight='bold',color='#414141', loc='left')\n",
    "    # save fig\n",
    "    plt.savefig(f'./plots/model_performance/familia_{familia}.png', bbox_inches = 'tight', dpi = 150)\n"
   ]
  },
  {
   "cell_type": "code",
   "execution_count": null,
   "metadata": {},
   "outputs": [],
   "source": []
  }
 ],
 "metadata": {
  "kernelspec": {
   "display_name": "Python 3",
   "language": "python",
   "name": "python3"
  },
  "language_info": {
   "codemirror_mode": {
    "name": "ipython",
    "version": 3
   },
   "file_extension": ".py",
   "mimetype": "text/x-python",
   "name": "python",
   "nbconvert_exporter": "python",
   "pygments_lexer": "ipython3",
   "version": "3.11.0"
  }
 },
 "nbformat": 4,
 "nbformat_minor": 2
}
