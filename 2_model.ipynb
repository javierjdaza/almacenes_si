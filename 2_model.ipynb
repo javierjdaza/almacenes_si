{
 "cells": [
  {
   "cell_type": "code",
   "execution_count": 3,
   "metadata": {},
   "outputs": [],
   "source": [
    "from prophet import Prophet\n",
    "from prophet.plot import plot_plotly, plot_components_plotly\n",
    "from prophet.serialize import model_to_json, model_from_json\n",
    "import pandas as pd\n",
    "import json\n",
    "from tqdm import tqdm\n",
    "\n",
    "from llaves_more_then_q95 import llaves_more_then_q95\n"
   ]
  },
  {
   "cell_type": "code",
   "execution_count": 2,
   "metadata": {},
   "outputs": [],
   "source": [
    "df_grouped_by_week = pd.read_parquet('./datasets/curated/almacenes_si_curated_by_week.parquet')"
   ]
  },
  {
   "cell_type": "code",
   "execution_count": 4,
   "metadata": {},
   "outputs": [
    {
     "name": "stderr",
     "output_type": "stream",
     "text": [
      "100%|██████████| 7876/7876 [02:07<00:00, 61.73it/s]"
     ]
    },
    {
     "name": "stdout",
     "output_type": "stream",
     "text": [
      "3337\n"
     ]
    },
    {
     "name": "stderr",
     "output_type": "stream",
     "text": [
      "\n"
     ]
    }
   ],
   "source": [
    "llaves_con_informacion_historica_suficiente_para_forecast = []\n",
    "combinations_to_forecast = df_grouped_by_week['combination'].unique()\n",
    "for combination in tqdm(combinations_to_forecast):\n",
    "    df_combination = df_grouped_by_week[df_grouped_by_week['combination'] == combination]\n",
    "    if len(df_combination[df_combination['date_week'] >= '2022-01-01']) >= 12: # si tiene por lo menos 12 semanas desde el 2022\n",
    "        llaves_con_informacion_historica_suficiente_para_forecast.append(combination)\n",
    "print(len(llaves_con_informacion_historica_suficiente_para_forecast))"
   ]
  },
  {
   "cell_type": "code",
   "execution_count": null,
   "metadata": {},
   "outputs": [],
   "source": [
    "final_prediction_2024 = pd.DataFrame()\n",
    "final_prediction_2024_with_test_data = pd.DataFrame()\n",
    "rmse_por_llave_resultados = []\n",
    "# Get the list of combinations\n",
    "for combination in tqdm(llaves_con_informacion_historica_suficiente_para_forecast):\n",
    "    # Get the dataframe for the combination\n",
    "    df_combination = df_grouped_by_week[df_grouped_by_week['combination'] == combination]\n",
    "    if combination in llaves_more_then_q95 and len(df_combination[df_combination['date_week'] >= '2022-01-01']) > 0: # si la llave esta en las llaves q95 y tiene data en el 2022, se entrena con data 2022, de lo contrario, se entra con todo lo disponible\n",
    "        df_combination = df_combination[df_combination['date_week'] >= '2022-01-01']\n",
    "    # df_combination_test = df_grouped_by_week_test[df_grouped_by_week_test['combination'] == combination][['date_week','quantity','campaign','discount_for_event']] # get the y_true values of the combination selected\n",
    "    df_discount_and_campaings = df_grouped_by_week[df_grouped_by_week['date_week'] >= '2024-01-01']\n",
    "    df_discount_and_campaings = df_discount_and_campaings[['combination','date_week','discount_for_event','campaign']]\n",
    "    # Complete the missing weeks with 0\n",
    "    first_date = df_combination['date_week'].min() # Get the first date in the dataframe\n",
    "    last_date = df_combination['date_week'].max() # Get the last date in the dataframe\n",
    "    # Create a dataframe with all the weeks between the year of the first date and the year of the last date\n",
    "    df_dates = pd.DataFrame({'date_week': pd.date_range(start=f'{first_date.year}-01-08', end=f'{last_date.year}-12-31', freq='W-MON')})    \n",
    "\n",
    "    df_combination = df_dates.merge(df_combination, on='date_week', how='left') # Merge the dataframes\n",
    "    df_combination['quantity'] = df_combination['quantity'].fillna(0) # Replace NaN values with 0\n",
    "    df_combination['campaign'] = df_combination['campaign'].fillna(0) # Replace NaN values with 0\n",
    "    df_combination['discount_for_event'] = df_combination['discount_for_event'].fillna(0) # Replace NaN values with 0\n",
    "\n",
    "    df_combination = df_combination[df_combination['date_week'] < '2023-12-31'] # Drop registers from 2024\n",
    "\n",
    "    # Create the prophet dataframe\n",
    "    prophet_dataframe = pd.DataFrame()\n",
    "    prophet_dataframe['ds'] = df_combination['date_week']\n",
    "    prophet_dataframe['y'] = df_combination['quantity']\n",
    "    prophet_dataframe['campaign'] = df_combination['campaign']\n",
    "    prophet_dataframe['discount_for_event'] = df_combination['discount_for_event']\n",
    "    prophet_dataframe['y'] = prophet_dataframe['y'].astype(int)\n",
    "\n",
    "    n_unique_years = prophet_dataframe['ds'].dt.year.nunique() # Count the number of different years in the dataframe\n",
    "\n",
    "    # Create the model\n",
    "    if n_unique_years == 1:\n",
    "        model = Prophet(weekly_seasonality = 13)\n",
    "        model.add_regressor('campaign')\n",
    "        model.add_regressor('discount_for_event')\n",
    "\n",
    "    else:\n",
    "        model = Prophet(weekly_seasonality = 52)\n",
    "        model.add_regressor('campaign')\n",
    "        model.add_regressor('discount_for_event')\n",
    "        \n",
    "        \n",
    "    model.fit(prophet_dataframe)\n",
    "\n",
    "    # Calculate how many weeks are missing from the last date in the dataframe to the last week of 2023\n",
    "    weeks = (date(2024, 12, 31) - prophet_dataframe['ds'].max().date()).days // 7\n",
    "    # Create a dataframe with the dates from the last date in the dataframe to the last week of 2023\n",
    "    future_2024 = model.make_future_dataframe(periods=weeks, freq='W-MON')\n",
    "    future_2024 = future_2024[future_2024['ds'] >= '2024-01-01']\n",
    "    future_2024 = future_2024.merge(df_combination_test, right_on='date_week',left_on= 'ds', how = 'left')\n",
    "    del future_2024['date_week']\n",
    "    future_2024[['quantity','campaign','discount_for_event']] = future_2024[['quantity','campaign','discount_for_event']].fillna(0)\n",
    "\n",
    "\n",
    "\n",
    "    forecast = model.predict(future_2024) # Make the predictions\n",
    "    forecast_2024 = forecast[['ds', 'yhat']] # Get the predictions for 2023\n",
    "    forecast_2024.columns = ['date', 'demand_yhat'] # Rename columns\n",
    "    forecast_2024['llave'] = combination # Add the combination column\n",
    "    # Add to the final predictions dataframe\n",
    "    final_prediction_2024 = pd.concat([final_prediction_2024, forecast_2024])\n",
    "    final_prediction_2024['demand_yhat'] = final_prediction_2024['demand_yhat'].apply(lambda x: 0 if x < 0 else x)\n",
    "    # # -----------------------------------------------------------------------------------\n",
    "    # # Do the same to generate de prophet_df, but with test data(2023) to compare results\n",
    "    # # -----------------------------------------------------------------------------------\n",
    "    # # Complete the missing weeks with 0\n",
    "    # first_date_test = df_combination_test['date_week'].min() # Get the first date in the dataframe\n",
    "    # last_date_test = df_combination_test['date_week'].max() # Get the last date in the dataframe\n",
    "    # # Create a dataframe with all the weeks between the year of the first date and the year of the last date\n",
    "    # df_dates_test = pd.DataFrame({'date_week': pd.date_range(start=f'{first_date_test.year}-01-08', end=f'{last_date_test.year}-12-31', freq='W-MON')})    \n",
    "    # df_combination_test = df_dates_test.merge(df_combination_test, on='date_week', how='left') # Merge the dataframes\n",
    "    # df_combination_test['quantity'] = df_combination_test['quantity'].fillna(0) # Replace NaN values with 0\n",
    "    # df_combination_test = df_combination_test[df_combination_test['date_week'] < '2024-01-01'] # Drop registers from 2024\n",
    "    \n",
    "    # # Create the prophet TEST dataframe\n",
    "    # dataframe_test = pd.DataFrame()\n",
    "    # dataframe_test['ds'] = df_combination_test['date_week']\n",
    "    # dataframe_test['y_true'] = df_combination_test['quantity']\n",
    "\n",
    "    # # Merge the forecast_2024 with the y_true values\n",
    "    # prediction = forecast[['ds', 'yhat']].merge(dataframe_test, on='ds', how='left')\n",
    "    # prediction = prediction[prediction['ds'] >= '2023-01-01']\n",
    "    # prediction['y_true'] = prediction['y_true'].fillna(0) # Fill NaN values with 0\n",
    "    # prediction['y_true'] = prediction['y_true'].astype(int)\n",
    "    # prediction['yhat'] = prediction['yhat'].apply(lambda x: 0 if x < 0 else x) # Replace negative values with 0\n",
    "    \n",
    "    \n",
    "    # # Calculate the rsme for test_set\n",
    "    # df_rsme = prediction.copy()\n",
    "    # rsme = np.sqrt(mean_squared_error(df_rsme['y_true'], df_rsme['yhat']))\n",
    "    \n",
    "    # # generate new column error with the abs(error)\n",
    "    # prediction['error'] = prediction['y_true'] - prediction['yhat']\n",
    "    # prediction['error'] = prediction['error'].apply(lambda x: abs(x))\n",
    "    # prediction['llave'] = combination\n",
    "    # final_prediction_2024_with_test_data = pd.concat([final_prediction_2024_with_test_data,prediction])\n",
    "    # rmse_por_llave = {\n",
    "    #     'llave': combination,\n",
    "    #     'rmse' : rsme\n",
    "    # }\n",
    "    # rmse_por_llave_resultados.append(rmse_por_llave)\n",
    "    with open(f'.././serialized_models/{str(combination)}.json', 'w') as file:\n",
    "        file.write(model_to_json(model))  # Save model\n",
    "\n"
   ]
  }
 ],
 "metadata": {
  "kernelspec": {
   "display_name": "Python 3",
   "language": "python",
   "name": "python3"
  },
  "language_info": {
   "codemirror_mode": {
    "name": "ipython",
    "version": 3
   },
   "file_extension": ".py",
   "mimetype": "text/x-python",
   "name": "python",
   "nbconvert_exporter": "python",
   "pygments_lexer": "ipython3",
   "version": "3.11.0"
  }
 },
 "nbformat": 4,
 "nbformat_minor": 2
}
